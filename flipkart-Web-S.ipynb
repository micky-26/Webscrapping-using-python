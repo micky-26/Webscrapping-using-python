{
 "cells": [
  {
   "cell_type": "markdown",
   "id": "46f417ef",
   "metadata": {},
   "source": [
    "# Webcrapping using python for multiple pages\n",
    "\n",
    "Here I will use Flipkart mobile dataset to crape the data"
   ]
  },
  {
   "cell_type": "code",
   "execution_count": 7,
   "id": "7398d4ce",
   "metadata": {},
   "outputs": [],
   "source": [
    "# importing necessary libraries\n",
    "\n",
    "import requests \n",
    "from bs4 import BeautifulSoup"
   ]
  },
  {
   "cell_type": "code",
   "execution_count": 10,
   "id": "f29a0e09",
   "metadata": {},
   "outputs": [
    {
     "name": "stdout",
     "output_type": "stream",
     "text": [
      "Enter number of pages4\n",
      "Phone in page1\n",
      "24\n",
      "Phone in page2\n",
      "24\n",
      "Phone in page3\n",
      "24\n",
      "Phone in page4\n",
      "24\n"
     ]
    }
   ],
   "source": [
    "# Loading URL content with beautifulsoup\n",
    "\n",
    "phn_nm=[]\n",
    "phn_pr=[]\n",
    "page_num = input(\"Enter number of pages\")\n",
    "for i in range(1,int(page_num)+1):\n",
    "    url = \"https://www.flipkart.com/search?q=mi+mobiles&otracker=search&otracker1=search&marketplace=FLIPKART&as-show=on&as=off&page=\"+str(i)\n",
    "    req = requests.get(url)\n",
    "    content = BeautifulSoup(req.content,'html.parser') \n",
    "#     print(content)\n",
    "    name = content.find_all('div',{\"class\":\"_4rR01T\"})\n",
    "    price = content.find_all('div',{\"class\":\"_30jeq3 _1_WHN1\"})\n",
    "    print(\"Phone in page\"+str(i))\n",
    "    print(len(name))\n",
    "    \n",
    "    for i in name:\n",
    "        phn_nm.append(i.text)\n",
    "    for i in price:\n",
    "        phn_pr.append(i.text)\n",
    "        "
   ]
  },
  {
   "cell_type": "code",
   "execution_count": 11,
   "id": "d2195688",
   "metadata": {},
   "outputs": [
    {
     "name": "stdout",
     "output_type": "stream",
     "text": [
      "REDMI 10A (Charcoal Black, 64 GB)\n",
      "REDMI 10 Power (Sporty Orange, 128 GB)\n",
      "REDMI 10 Power (Power Black, 128 GB)\n",
      "REDMI 10A (Sea Blue, 64 GB)\n",
      "REDMI 10A (Slate grey, 64 GB)\n",
      "Redmi Note 11 (Horizon Blue, 128 GB)\n",
      "Redmi Note 11 (Space Black, 128 GB)\n",
      "Redmi Note 11 (Horizon Blue, 64 GB)\n",
      "Redmi 9A Sport (Carbon Black, 32 GB)\n",
      "Redmi Note 11 (Horizon Blue, 64 GB)\n",
      "Redmi Note 11 (Horizon Blue, 64 GB)\n",
      "Redmi Note 11 (Starburst White, 128 GB)\n",
      "Redmi 9A Sport (Carbon Black, 32 GB)\n",
      "REDMI 10A (Slate grey, 64 GB)\n",
      "REDMI 10A (Charcoal Black, 32 GB)\n",
      "REDMI 10A (Sea Blue, 64 GB)\n",
      "Redmi Note 11 PRO Plus 5G (Mirage Blue, 128 GB)\n",
      "Redmi Note 11 PRO Plus 5G (Mirage Blue, 128 GB)\n",
      "Redmi Note 11 PRO Plus 5G (Mirage Blue, 128 GB)\n",
      "Redmi Note 11 PRO Plus 5G (Stealth Black, 128 GB)\n",
      "Redmi Note 11 (Starburst White, 64 GB)\n",
      "Redmi Note 11S (Space Black, 128 GB)\n",
      "�Note 11S (Space Black, 128 GB)\n",
      "REDMI Note 11 Pro (Stealth Black, 128 GB)\n",
      "Redmi 9A (SeaBlue, 32 GB)\n",
      "Redmi Note 11 (Horizon Blue, 64 GB)\n",
      "Redmi Note 11 (Horizon Blue, 128 GB)\n",
      "Xiaomi 11i Hypercharge 5G (Purple Mist, 128 GB)\n",
      "REDMI Note 11 Pro (Phantom White, 128 GB)\n",
      "Redmi 9A (Midnight Black, 32 GB)\n",
      "Redmi 9A (Sea Blue, 32 GB)\n",
      "Redmi Note 11 (Starburst White, 64 GB)\n",
      "Redmi Note 11 (Space Black, 64 GB)\n",
      "Redmi Note 11 (Starburst White, 64 GB)\n",
      "Redmi Note 11 (Space Black, 64 GB)\n",
      "Xiaomi 11i 5G (Pacific Pearl, 128 GB)\n",
      "Redmi Note 11 (Starburst White, 64 GB)\n",
      "Redmi 9A Sport (Coral Green, 32 GB)\n",
      "Redmi 9A Sport (Metallic Blue, 32 GB)\n",
      "REDMI Note 11T 5G (Aquamarine Blue, 128 GB)\n",
      "REDMI Note 11T 5G (Stardust White, 128 GB)\n",
      "Redmi Note 11 PRO Plus 5G (Mirage Blue, 256 GB)\n",
      "Redmi Note 11 PRO Plus 5G (Stealth Black, 128 GB)\n",
      "REDMI Note 11 Pro (Phantom White, 128 GB)\n",
      "REDMI Note 11 Pro (Star Blue, 128 GB)\n",
      "Redmi 9A Sport (Metallic Blue, 32 GB)\n",
      "Redmi Note 11 PRO Plus 5G (Mirage Blue, 128 GB)\n",
      "Redmi Note 11 PRO Plus 5G (Stealth Black, 128 GB)\n",
      "REDMI Note 11 Pro (Star Blue, 128 GB)\n",
      "Redmi Note 11 PRO Plus 5G (Mirage Blue, 128 GB)\n",
      "REDMI Note 11T 5G (Aquamarine Blue, 128 GB)\n",
      "10 Prime (Astral White, 128 GB)\n",
      "10 Prime (Phantom Black, 128 GB)\n",
      "Xiaomi 11i 5G (Camo Green, 128 GB)\n",
      "Redmi Note 11S (Space Black, 128 GB)\n",
      "Redmi Note 11 PRO Plus 5G (Stealth Black, 128 GB)\n",
      "REDMI NOTE 10 LITE (Glacier White, 128 GB)\n",
      "REDMI Note 11 Pro (Star Blue, 128 GB)\n",
      "Xiaomi 11i Hypercharge 5G (Stealth Black, 128 GB)\n",
      "Xiaomi 11i 5G (Purple Mist, 128 GB)\n",
      "Mi 11 Lite (Tuscany Coral, 128 GB)\n",
      "REDMI Note 11T 5G (Matte black, 128 GB)\n",
      "Mi 11X (Cosmic Black, 128 GB)\n",
      "Redmi Note 9 Pro (Glacier White, 128 GB)\n",
      "Mi 10T Pro (Lunar Silver, 128 GB)\n",
      "REDMI Note 11 Pro (Star blue, 128 GB)\n",
      "Redmi 8 (Emerald Green, 64 GB)\n",
      "Xiaomi 11i 5G (Stealth Black, 128 GB)\n",
      "Redmi 9 (Sporty Orange, 64 GB)\n",
      "REDMI 10A (CHARCOAL BLACK, 128 GB)\n",
      "Redmi Y2 (Dark Grey, 64 GB)\n",
      "Redmi 7A (Matte Blue, 32 GB)\n",
      "MI 11X 5G (CELESTIAL SILVER, 128 GB)\n",
      "Mi 10T Pro (Cosmic Black, 128 GB)\n",
      "Redmi 6 (Rose Gold, 32 GB)\n",
      "Redmi Note 7S (Onyx Black, 64 GB)\n",
      "Redmi 6 Pro (Gold, 32 GB)\n",
      "Redmi 8 (Ruby Red, 64 GB)\n",
      "Redmi Go (Blue, 16 GB)\n",
      "Xiaomi 11T Pro 5G Hyperphone (Moonlight White, 256 GB)\n",
      "Xiaomi 12 Pro 5G (Couture Blue, 256 GB)\n",
      "Redmi Note 8 (Moonlight White, 64 GB)\n",
      "Redmi 6 (Gold, 32 GB)\n",
      "Redmi Note 7S (Ruby Red, 32 GB)\n",
      "Xiaomi 11i Hypercharge 5G (Stealth Black, 128 GB)\n",
      "Mi 11X (Lunar White, 128 GB)\n",
      "Mi 10T (Cosmic Black, 128 GB)\n",
      "Mi 10T (Cosmic Black, 128 GB)\n",
      "REDMI Note 11T 5G (Matte black, 128 GB)\n",
      "Redmi Note 9 Pro (Interstellar Black, 64 GB)\n",
      "Redmi 3S Prime (Gold, 32 GB)\n",
      "Redmi Note 8 (Neptune Blue, 64 GB)\n",
      "Redmi Note 4 (Black, 64 GB)\n",
      "Mi A1 (Black, 64 GB)\n",
      "�Note 11 (Horizon Blue, 64 GB)\n",
      "Redmi Note 11 PRO Plus 5G (Phantom White, 128 GB)\n"
     ]
    }
   ],
   "source": [
    "# Printing data of all the 4 pages entered above\n",
    "\n",
    "for i in phn_nm:\n",
    "    print(i)"
   ]
  },
  {
   "cell_type": "code",
   "execution_count": 12,
   "id": "b70a945c",
   "metadata": {},
   "outputs": [
    {
     "name": "stdout",
     "output_type": "stream",
     "text": [
      "Requirement already satisfied: pandas in c:\\users\\mohini chandra\\appdata\\local\\programs\\python\\python310\\lib\\site-packages (1.4.3)\n",
      "Requirement already satisfied: pytz>=2020.1 in c:\\users\\mohini chandra\\appdata\\local\\programs\\python\\python310\\lib\\site-packages (from pandas) (2022.1)\n",
      "Requirement already satisfied: numpy>=1.21.0 in c:\\users\\mohini chandra\\appdata\\local\\programs\\python\\python310\\lib\\site-packages (from pandas) (1.23.1)\n",
      "Requirement already satisfied: python-dateutil>=2.8.1 in c:\\users\\mohini chandra\\appdata\\local\\programs\\python\\python310\\lib\\site-packages (from pandas) (2.8.2)\n",
      "Requirement already satisfied: six>=1.5 in c:\\users\\mohini chandra\\appdata\\local\\programs\\python\\python310\\lib\\site-packages (from python-dateutil>=2.8.1->pandas) (1.16.0)\n",
      "Note: you may need to restart the kernel to use updated packages.\n"
     ]
    }
   ],
   "source": [
    "pip install pandas as pd"
   ]
  },
  {
   "cell_type": "code",
   "execution_count": 14,
   "id": "c597f709",
   "metadata": {},
   "outputs": [],
   "source": [
    "import pandas as pd"
   ]
  },
  {
   "cell_type": "code",
   "execution_count": 15,
   "id": "bf7afcd7",
   "metadata": {},
   "outputs": [
    {
     "name": "stdout",
     "output_type": "stream",
     "text": [
      "                                           Phone Name Phone Price\n",
      "0                   REDMI 10A (Charcoal Black, 64 GB)      ₹8,148\n",
      "1              REDMI 10 Power (Sporty Orange, 128 GB)     ₹12,701\n",
      "2                REDMI 10 Power (Power Black, 128 GB)     ₹12,433\n",
      "3                         REDMI 10A (Sea Blue, 64 GB)      ₹8,499\n",
      "4                       REDMI 10A (Slate grey, 64 GB)      ₹8,274\n",
      "..                                                ...         ...\n",
      "91                 Redmi Note 8 (Neptune Blue, 64 GB)     ₹12,999\n",
      "92                        Redmi Note 4 (Black, 64 GB)     ₹12,749\n",
      "93                               Mi A1 (Black, 64 GB)     ₹14,599\n",
      "94                     �Note 11 (Horizon Blue, 64 GB)     ₹17,999\n",
      "95  Redmi Note 11 PRO Plus 5G (Phantom White, 128 GB)     ₹24,099\n",
      "\n",
      "[96 rows x 2 columns]\n"
     ]
    }
   ],
   "source": [
    "# Saving phone name and phone price in products.csv file\n",
    "\n",
    "data={\"Phone Name\":phn_nm,\"Phone Price\":phn_pr}\n",
    "df =pd.DataFrame(data)\n",
    "print(df)"
   ]
  },
  {
   "cell_type": "code",
   "execution_count": 16,
   "id": "02b14864",
   "metadata": {},
   "outputs": [],
   "source": [
    "df.to_csv('products.csv', index=False, encoding='utf-8')"
   ]
  }
 ],
 "metadata": {
  "kernelspec": {
   "display_name": "Python 3 (ipykernel)",
   "language": "python",
   "name": "python3"
  },
  "language_info": {
   "codemirror_mode": {
    "name": "ipython",
    "version": 3
   },
   "file_extension": ".py",
   "mimetype": "text/x-python",
   "name": "python",
   "nbconvert_exporter": "python",
   "pygments_lexer": "ipython3",
   "version": "3.10.4"
  }
 },
 "nbformat": 4,
 "nbformat_minor": 5
}
